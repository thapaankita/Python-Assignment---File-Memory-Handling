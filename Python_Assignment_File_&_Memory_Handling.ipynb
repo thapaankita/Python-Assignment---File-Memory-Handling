{
  "nbformat": 4,
  "nbformat_minor": 0,
  "metadata": {
    "colab": {
      "provenance": []
    },
    "kernelspec": {
      "name": "python3",
      "display_name": "Python 3"
    },
    "language_info": {
      "name": "python"
    }
  },
  "cells": [
    {
      "cell_type": "markdown",
      "source": [
        "#Basic Questions"
      ],
      "metadata": {
        "id": "rYkn-28qAW-x"
      }
    },
    {
      "cell_type": "markdown",
      "source": [
        "###Q1. What is the difference between interpreted and compiled languages?\n",
        "**Answer:**\n",
        "\n",
        "| Feature              | Interpreted Language                        | Compiled Language                        |\n",
        "|----------------------|---------------------------------------------|------------------------------------------|\n",
        "| **Execution**         | Code is executed **line-by-line** by an interpreter. | Code is first **converted to machine code** by a compiler, then executed. |\n",
        "| **Speed**             | Slower, as interpretation happens at runtime. | Faster, as code is pre-compiled.         |\n",
        "| **Error Handling**    | Errors are shown **one at a time during execution**. | All errors are usually shown **at compile time**. |\n",
        "| **Examples**          | Python, JavaScript, Ruby                    | C, C++, Java (compiled to bytecode)      |\n",
        "| **Portability**       | More portable across systems (no need to recompile). | Often needs to be recompiled on different systems. |\n",
        "\n",
        "###Q2. What is exception handling in Python?\n",
        "**Answer:**\n",
        "\n",
        "Exception handling in Python is a mechanism to manage runtime errors (exceptions) so the program can handle them gracefully without crashing. It uses `try`, `except`, `else`, and `finally` blocks to catch and respond to errors during program execution.\n",
        "\n",
        "Using exception handling helps provide meaningful error messages, maintain program flow, and perform cleanup actions when errors occur.\n"
      ],
      "metadata": {
        "id": "naF104VhBcDh"
      }
    },
    {
      "cell_type": "code",
      "source": [
        "#Example:\n",
        "try:\n",
        "    num = int(input(\"Enter a number: \"))\n",
        "    result = 10 / num\n",
        "except ZeroDivisionError:\n",
        "    print(\"Error: Cannot divide by zero.\")\n",
        "except ValueError:\n",
        "    print(\"Error: Invalid input.\")\n",
        "else:\n",
        "    print(\"Result:\", result)\n",
        "finally:\n",
        "    print(\"This block always runs.\")\n"
      ],
      "metadata": {
        "colab": {
          "base_uri": "https://localhost:8080/"
        },
        "id": "-JaNVmGyDUfa",
        "outputId": "72653af1-bdbb-403f-ec93-dbae77e96751"
      },
      "execution_count": 4,
      "outputs": [
        {
          "output_type": "stream",
          "name": "stdout",
          "text": [
            "Enter a number: 5\n",
            "Result: 2.0\n",
            "This block always runs.\n"
          ]
        }
      ]
    },
    {
      "cell_type": "markdown",
      "source": [
        "###Q3. What is the purpose of the finally block in exception handling?\n",
        "**Answer:**\n",
        "\n",
        "The `finally` block is used to execute code that must run **regardless** of whether an exception occurred or not. It is typically used for cleanup activities, such as closing files or releasing resources, ensuring that these actions are performed even if an error interrupts the normal flow of the program.\n",
        "\n",
        "###Q4. What is logging in Python?\n",
        "**Answer:**\n",
        "\n",
        "Logging in Python is a way to record events, errors, and informational messages during the execution of a program. It helps developers monitor and debug their code by writing messages to the console or to log files.\n",
        "\n",
        "The `logging` module in Python provides a flexible framework for emitting log messages at different severity levels like DEBUG, INFO, WARNING, ERROR, and CRITICAL.\n"
      ],
      "metadata": {
        "id": "8ZvOyWSKD37F"
      }
    },
    {
      "cell_type": "code",
      "source": [
        "#Example:\n",
        "import logging\n",
        "\n",
        "logging.basicConfig(filename='app.log', level=logging.INFO,\n",
        "                    format='%(asctime)s - %(levelname)s - %(message)s')\n",
        "\n",
        "logging.info('This is an informational message.')\n",
        "logging.warning('This is a warning message.')\n",
        "logging.error('This is an error message.')\n"
      ],
      "metadata": {
        "colab": {
          "base_uri": "https://localhost:8080/"
        },
        "id": "EViCLu0pGQj5",
        "outputId": "52a381a6-0043-4fe8-dfaa-3105cc1b9ef7"
      },
      "execution_count": 5,
      "outputs": [
        {
          "output_type": "stream",
          "name": "stderr",
          "text": [
            "WARNING:root:This is a warning message.\n",
            "ERROR:root:This is an error message.\n"
          ]
        }
      ]
    },
    {
      "cell_type": "markdown",
      "source": [
        "###Q5. What is the significance of the __del__ method in Python?\n",
        "**Answer:**\n",
        "\n",
        "The `__del__` method in Python is a special method called a **destructor**. It is automatically invoked when an object is about to be destroyed or garbage collected. This method is used to perform cleanup actions, such as releasing external resources (files, network connections) before the object is removed from memory.\n",
        "\n",
        "However, relying on `__del__` is generally discouraged for critical cleanup because the timing of its execution is unpredictable due to Python's garbage collection system.\n",
        "\n",
        "###Q6. What is the difference between import and from ... import in Python?\n",
        "**Answer:**\n",
        "\n",
        "Both `import` and `from ... import` are used to access code from modules, but they differ in how you access the functions or classes inside those modules:\n",
        "\n",
        "- **`import module_name`**  \n",
        "  - Imports the entire module.  \n",
        "  - You need to use the module name as a prefix when accessing its functions or attributes.\n",
        "\n",
        "- **`from module_name import item_name`**  \n",
        "  - Imports a specific item (function, class, or variable) from a module.  \n",
        "  - You can use it directly without the module prefix.\n"
      ],
      "metadata": {
        "id": "hF0fRB6XGUfl"
      }
    },
    {
      "cell_type": "code",
      "source": [
        "#Example:\n",
        "# Using 'import'\n",
        "import math\n",
        "print(math.sqrt(16))  # Access using module name\n",
        "\n",
        "# Using 'from ... import'\n",
        "from math import sqrt\n",
        "print(sqrt(25))       # Direct access without module name\n"
      ],
      "metadata": {
        "colab": {
          "base_uri": "https://localhost:8080/"
        },
        "id": "2s41TFdJTsOg",
        "outputId": "40016873-d53b-4709-ff21-b33779be10aa"
      },
      "execution_count": 6,
      "outputs": [
        {
          "output_type": "stream",
          "name": "stdout",
          "text": [
            "4.0\n",
            "5.0\n"
          ]
        }
      ]
    },
    {
      "cell_type": "markdown",
      "source": [
        "###Q7. How can you handle multiple exceptions in Python?\n",
        "**Answer:**\n",
        "\n",
        "In Python, you can handle multiple exceptions using multiple `except` blocks, each targeting a different exception type. This allows your program to respond appropriately depending on what kind of error occurs.\n",
        "\n",
        "Alternatively, you can also catch multiple exceptions in a **single `except` block** using a tuple.\n",
        "\n",
        "This makes your code more robust and allows different actions for different errors."
      ],
      "metadata": {
        "id": "e7AhjNM4T69m"
      }
    },
    {
      "cell_type": "code",
      "source": [
        "#Example:\n",
        "try:\n",
        "    num = int(input(\"Enter a number: \"))\n",
        "    result = 10 / num\n",
        "except ZeroDivisionError:\n",
        "    print(\"❌ Cannot divide by zero.\")\n",
        "except ValueError:\n",
        "    print(\"❌ Invalid input. Please enter a number.\")\n",
        "except Exception as e:\n",
        "    print(f\"❌ Unexpected error: {e}\")\n",
        "else:\n",
        "    print(\"✅ Result:\", result)\n",
        "\n"
      ],
      "metadata": {
        "colab": {
          "base_uri": "https://localhost:8080/"
        },
        "id": "1hz91MapUkH3",
        "outputId": "817504ba-cfa6-4ffe-b125-43e8979171e3"
      },
      "execution_count": 9,
      "outputs": [
        {
          "output_type": "stream",
          "name": "stdout",
          "text": [
            "Enter a number: 5\n",
            "✅ Result: 2.0\n"
          ]
        }
      ]
    },
    {
      "cell_type": "markdown",
      "source": [
        "###Q8. What is the purpose of the with statement when handling files in Python?\n",
        "**Answer:**\n",
        "\n",
        "The `with` statement in Python is used to handle files in a clean and efficient way. It ensures that the file is automatically **closed after the block of code is executed**, even if an exception occurs.\n",
        "\n",
        "This helps avoid file-related errors, such as forgetting to close a file, which can lead to data loss or memory leaks.\n",
        "\n",
        "It is also known as a **context manager**."
      ],
      "metadata": {
        "id": "y99lAlZvU6oH"
      }
    },
    {
      "cell_type": "code",
      "source": [
        "#Example:\n",
        "# Using 'with' to handle a file\n",
        "with open(\"example.txt\", \"w\") as file:\n",
        "    file.write(\"This is an example using the with statement.\")\n",
        "\n",
        "# No need to call file.close(); it's done automatically\n"
      ],
      "metadata": {
        "id": "JWmPJTrmVT3a"
      },
      "execution_count": 8,
      "outputs": []
    },
    {
      "cell_type": "markdown",
      "source": [
        "###Q9.  What is the difference between multithreading and multiprocessing?\n",
        "**Answer:**\n",
        "\n",
        "| Feature            | Multithreading                             | Multiprocessing                           |\n",
        "|--------------------|---------------------------------------------|--------------------------------------------|\n",
        "| Definition         | Running multiple threads (lightweight tasks) within the same process | Running multiple processes (separate memory) simultaneously |\n",
        "| Memory             | Threads share the same memory space         | Each process has its own memory space       |\n",
        "| Speed              | Faster for I/O-bound tasks                  | Better for CPU-bound tasks                  |\n",
        "| Overhead           | Lower overhead, but more prone to conflicts | Higher overhead, safer for heavy tasks      |\n",
        "| Example Use Cases  | Web servers, file I/O                       | Data processing, scientific computation     |\n",
        "\n",
        "###Q10. What are the advantages of using logging in a program?\n",
        "**Answer:**\n",
        "\n",
        "Logging provides a flexible way to track events that happen during a program's execution. Instead of using `print()` statements, logging offers structured, level-based messages.\n",
        "\n",
        "####Advantages of using logging:\n",
        "- **Debugging:** Helps trace bugs by recording detailed messages.\n",
        "- **Monitoring:** Keeps track of events and system behavior over time.\n",
        "- **Error Tracking:** Stores error messages for later analysis.\n",
        "- **Separation of concerns:** Keeps diagnostic output separate from program output.\n",
        "- **Flexible output:** Log messages can be directed to files, consoles, or remote servers.\n",
        "- **Severity levels:** Supports different levels (DEBUG, INFO, WARNING, ERROR, CRITICAL) for better message control.\n",
        "- **Easier maintenance:** Helps developers understand code behavior during updates or refactoring.\n",
        "\n",
        "Logging makes your code more professional, maintainable, and easier to troubleshoot.\n",
        "\n",
        "###Q11. What is memory management in Python?\n",
        "**Answer:**\n",
        "\n",
        "Memory management in Python refers to how Python **allocates**, **uses**, and **reclaims memory** during program execution. It is mostly handled automatically by Python, allowing developers to focus on writing code without worrying about low-level memory operations.\n",
        "\n",
        "##Q12. What are the basic steps involved in exception handling in Python?\n",
        "**Answer:**\n",
        "\n",
        "Exception handling in Python allows you to manage errors that occur during program execution without crashing the program. The basic steps involved in exception handling include:\n",
        "\n",
        "1. **Use of the `try` block:**  \n",
        "   This is where you write the code that might raise an exception. Python will attempt to execute this code.\n",
        "\n",
        "2. **Use of one or more `except` blocks:**  \n",
        "   If an error occurs in the `try` block, the flow jumps to the appropriate `except` block that matches the error type. You can have multiple `except` blocks to handle different exceptions.\n",
        "\n",
        "3. **Optional `else` block:**  \n",
        "   If no exceptions occur in the `try` block, the `else` block (if present) runs. It is often used for code that should only run if the `try` was successful.\n",
        "\n",
        "4. **Optional `finally` block:**  \n",
        "   This block always runs, whether an exception occurred or not. It is typically used for cleanup actions like closing files or releasing resources.\n",
        "\n",
        "These steps help build robust and error-tolerant programs by catching and responding to unexpected conditions gracefully.\n",
        "\n",
        "###Q13. Why is memory management important in Python?\n",
        "**Answer:**\n",
        "\n",
        "Memory management is important in Python because it helps ensure that the program uses system resources efficiently and runs smoothly without wasting memory. Proper memory management prevents memory leaks, where unused objects take up space unnecessarily, which can slow down or crash programs. Python’s automatic memory management frees developers from manually allocating and freeing memory, reducing the risk of bugs related to memory misuse. This not only improves the performance and stability of applications but also makes the development process easier and less error-prone. Overall, efficient memory management is essential for building reliable, fast, and scalable Python programs.\n",
        "\n",
        "###Q14.  What is the role of try and except in exception handling?\n",
        "**Answer:**\n",
        "\n",
        "The `try` block contains the code that might raise an exception during execution. Python attempts to run this code normally. If an exception occurs inside the `try` block, the program immediately jumps to the matching `except` block to handle the error gracefully, preventing the program from crashing.\n",
        "\n",
        "The `except` block catches and manages the specific exception raised in the `try` block, allowing the programmer to define how the program should respond to different error conditions.\n",
        "\n",
        "Together, `try` and `except` allow for controlled handling of runtime errors, making programs more robust and user-friendly.\n",
        "\n",
        "\n"
      ],
      "metadata": {
        "id": "Ae5-pGDrVY-h"
      }
    },
    {
      "cell_type": "code",
      "source": [
        "#Example:\n",
        "try:\n",
        "    num = int(input(\"Enter a number: \"))\n",
        "    result = 10 / num\n",
        "except ZeroDivisionError:\n",
        "    print(\"Error: Cannot divide by zero.\")\n",
        "except ValueError:\n",
        "    print(\"Error: That's not a valid number.\")\n",
        "else:\n",
        "    print(\"Result is:\", result)\n"
      ],
      "metadata": {
        "colab": {
          "base_uri": "https://localhost:8080/"
        },
        "id": "UCfv_rkZY6Ym",
        "outputId": "9a3ffc4e-0f07-45b6-fcef-f5fb27779f83"
      },
      "execution_count": 12,
      "outputs": [
        {
          "output_type": "stream",
          "name": "stdout",
          "text": [
            "Enter a number: 5\n",
            "Result is: 2.0\n"
          ]
        }
      ]
    },
    {
      "cell_type": "markdown",
      "source": [
        "###Q15. How does Python's garbage collection system work?\n",
        "**Answer:**\n",
        "\n",
        "Python's garbage collection system is responsible for automatically reclaiming memory occupied by objects that are no longer in use, helping to prevent memory leaks and optimize resource usage. It primarily uses **reference counting**, where each object keeps track of how many references point to it. When an object's reference count drops to zero, Python immediately frees the memory occupied by that object.\n",
        "\n",
        "However, reference counting alone cannot handle **circular references**—situations where two or more objects reference each other, preventing their reference counts from ever reaching zero. To solve this, Python includes a **cyclic garbage collector** that periodically detects and collects these unreachable groups of objects.\n",
        "\n",
        "Together, reference counting and cyclic garbage collection ensure efficient memory management by freeing memory from objects that are no longer accessible, even in complex scenarios involving circular references.\n",
        "\n",
        "###Q16.  What is the purpose of the else block in exception handling?\n",
        "**Answer:**\n",
        "\n",
        "The `else` block in Python's exception handling is executed only if the code inside the `try` block runs **without raising any exceptions**. It allows you to write code that should run only when no errors occur, helping to separate the normal flow from error handling. Using the `else` block improves code readability by clearly distinguishing the successful execution path from exception handling.\n",
        "\n",
        "If an exception is raised in the `try` block, the `else` block is skipped.\n",
        "\n",
        "###Q17. What are the common logging levels in Python?\n",
        "**Answer:**\n",
        "\n",
        "Python's logging module defines several logging levels to indicate the severity of events. The common logging levels, in increasing order of severity, are:\n",
        "\n",
        "- **DEBUG:** Detailed information, typically of interest only when diagnosing problems.\n",
        "- **INFO:** Confirmation that things are working as expected.\n",
        "- **WARNING:** An indication that something unexpected happened or might cause problems in the future.\n",
        "- **ERROR:** Due to a more serious problem, the software has not been able to perform some function.\n",
        "- **CRITICAL:** A very serious error, indicating that the program itself may be unable to continue running.\n",
        "\n",
        "Using these levels helps developers control the amount and importance of the logged information.\n",
        "\n",
        "###Q18. What is the difference between os.fork() and multiprocessing in Python?\n",
        "**Answer:**\n",
        "\n",
        "- **`os.fork()`** is a low-level system call available on Unix-like operating systems that creates a new child process by duplicating the current process. The child process is a copy of the parent and runs independently. It is a very basic way to create new processes but requires manual handling of inter-process communication and resource management.\n",
        "\n",
        "- **`multiprocessing` module** is a high-level Python library that provides a more convenient and portable way to create and manage processes across different operating systems (including Windows, where `fork()` is not available). It abstracts many complexities, offering tools for process creation, communication (queues, pipes), synchronization, and managing process pools.\n",
        "\n",
        "In summary, `os.fork()` is a low-level, Unix-only method for process creation, while `multiprocessing` is a cross-platform, higher-level module designed for easier and safer process management.\n",
        "\n",
        "###Q19. What is the importance of closing a file in Python?\n",
        "**Answer:**\n",
        "\n",
        "Closing a file in Python is important because it ensures that all the data written to the file is properly saved and that system resources associated with the file are released. When a file is opened, the operating system allocates resources such as file descriptors, and keeping the file open unnecessarily can lead to resource leaks, which may cause the program or system to run out of these resources. Closing the file also flushes any buffered data, preventing data loss or corruption. Properly closing files helps maintain data integrity, improves performance, and avoids unexpected errors in file handling.\n",
        "\n",
        "###Q20.  What is the difference between file.read() and file.readline() in Python?\n",
        "**Answer:**\n",
        "\n",
        "- **`file.read()`** reads the entire content of the file as a single string. If called without arguments, it reads all data until the end of the file.\n",
        "\n",
        "- **`file.readline()`** reads one line from the file each time it is called. It returns the next line including the newline character (`\\n`), or an empty string when the end of the file is reached.\n",
        "\n",
        "In summary, `read()` is used to read the whole file at once, while `readline()` is used to read the file line by line.\n",
        "\n",
        "###Q21. What is the logging module in Python used for?\n",
        "**Answer:**\n",
        "\n",
        "The `logging` module in Python is used to track events that happen when software runs. It provides a flexible framework for emitting log messages from Python programs. These messages can be used for debugging, monitoring, or auditing purposes. The module allows developers to record information about program execution at different severity levels (such as DEBUG, INFO, WARNING, ERROR, and CRITICAL) and to direct these messages to various outputs like the console, files, or remote servers. Using the `logging` module helps in diagnosing problems and understanding the behavior of applications.\n",
        "\n",
        "###Q22. What is the os module in Python used for in file handling?\n",
        "**Answer:**\n",
        "\n",
        "The `os` module in Python provides a way to interact with the operating system, offering functions that help manage files and directories. In file handling, the `os` module allows you to perform tasks such as creating, deleting, renaming, and moving files and directories. It also helps in checking file properties (like existence or permissions) and retrieving file system information. Using the `os` module, you can write programs that handle files more flexibly and interact with the file system beyond simple reading and writing.\n",
        "\n",
        "###Q23. What are the challenges associated with memory management in Python?\n",
        "**Answer:**\n",
        "\n",
        "Although Python handles memory management automatically, there are still several challenges associated with it:\n",
        "\n",
        "1. **Reference Cycles:** Python's reference counting cannot handle circular references where objects reference each other, leading to potential memory leaks if the cyclic garbage collector does not collect them promptly.\n",
        "\n",
        "2. **Memory Overhead:** Python objects consume more memory compared to lower-level languages due to additional metadata and flexibility, which can lead to higher memory usage.\n",
        "\n",
        "3. **Garbage Collection Pauses:** The cyclic garbage collector runs periodically, which may cause brief pauses or performance hits in some applications.\n",
        "\n",
        "4. **Large Data Handling:** Managing very large data structures or many objects can be challenging and may require manual optimizations to reduce memory footprint.\n",
        "\n",
        "5. **Non-deterministic Deallocation:** In some implementations (like PyPy or Jython), garbage collection timing is non-deterministic, making resource management less predictable compared to CPython’s reference counting.\n",
        "\n",
        "###Q24. How do you raise an exception manually in Python?\n",
        "**Answer:**\n",
        "\n",
        "In Python, you can manually raise an exception using the `raise` statement followed by an exception class or instance. This is useful when you want to enforce certain conditions or signal errors explicitly in your code.\n",
        "\n",
        "For example, you can raise a built-in exception like `ValueError` if a condition is not met.\n"
      ],
      "metadata": {
        "id": "arhIQATtY-Pk"
      }
    },
    {
      "cell_type": "code",
      "source": [
        "#Example:\n",
        "def check_age(age):\n",
        "    if age < 18:\n",
        "        raise ValueError(\"Age must be at least 18.\")\n",
        "    else:\n",
        "        print(\"Age is valid.\")\n",
        "\n",
        "try:\n",
        "    check_age(15)\n",
        "except ValueError as e:\n",
        "    print(\"Caught an error:\", e)\n"
      ],
      "metadata": {
        "colab": {
          "base_uri": "https://localhost:8080/"
        },
        "id": "UX0XKYDncrYn",
        "outputId": "96db7887-95ed-40e4-9286-af4a754e6d23"
      },
      "execution_count": 17,
      "outputs": [
        {
          "output_type": "stream",
          "name": "stdout",
          "text": [
            "Caught an error: Age must be at least 18.\n"
          ]
        }
      ]
    },
    {
      "cell_type": "markdown",
      "source": [
        "###Q25. Why is it important to use multithreading in certain applications?\n",
        "**Answer:**\n",
        "\n",
        "Multithreading allows a program to run multiple threads (smaller units of a process) concurrently, which can improve performance and responsiveness, especially in applications that involve waiting for I/O operations like file reading/writing, network communication, or user interactions.\n",
        "\n",
        "Using multithreading is important because it helps:\n",
        "\n",
        "- **Increase efficiency:** While one thread waits (e.g., for a file to load), others can continue executing, making better use of CPU resources.\n",
        "- **Improve responsiveness:** In graphical user interfaces (GUIs) or real-time systems, multithreading prevents the application from freezing during long tasks.\n",
        "- **Simplify program design:** By separating tasks into threads, programs can be designed in a modular way, with each thread handling a specific job.\n",
        "\n",
        "However, multithreading is not suitable for CPU-bound tasks in Python due to the Global Interpreter Lock (GIL), where multiprocessing or other methods might be better.\n",
        "\n",
        "Overall, multithreading is important for improving performance and user experience in I/O-bound and interactive applications."
      ],
      "metadata": {
        "id": "8q5CPEO5c06T"
      }
    },
    {
      "cell_type": "markdown",
      "source": [
        "#Practical Questions"
      ],
      "metadata": {
        "id": "EtIAxZmRdEJg"
      }
    },
    {
      "cell_type": "markdown",
      "source": [
        "###Q1. How can you open a file for writing in Python and write a string to it?\n",
        " You can open a file using the `open()` function with mode `'w'` for writing. If the file doesn't exist, it will be created. Writing to the file can be done using the `write()` method."
      ],
      "metadata": {
        "id": "pVA8IDDIdKxL"
      }
    },
    {
      "cell_type": "code",
      "source": [
        "#Example:\n",
        "# Open file in write mode\n",
        "file = open('example.txt', 'w')\n",
        "\n",
        "# Write a string to the file\n",
        "file.write(\"Hello, this is a sample text.\")\n",
        "\n",
        "# Close the file to save changes\n",
        "file.close()\n"
      ],
      "metadata": {
        "id": "eU2r5hVWdm8K"
      },
      "execution_count": 18,
      "outputs": []
    },
    {
      "cell_type": "markdown",
      "source": [
        "###Q2. Write a Python program to read the contents of a file and print each line.\n",
        "This program opens a file in read mode, reads it line by line using a loop, and prints each line."
      ],
      "metadata": {
        "id": "9_T4tniJds0R"
      }
    },
    {
      "cell_type": "code",
      "source": [
        "#Example:\n",
        "# Open the file in read mode\n",
        "with open('example.txt', 'r') as file:\n",
        "    # Iterate over each line in the file\n",
        "    for line in file:\n",
        "        print(line, end='')  # end='' avoids extra blank lines\n"
      ],
      "metadata": {
        "colab": {
          "base_uri": "https://localhost:8080/"
        },
        "id": "uHdh0TNAeHhH",
        "outputId": "0f89ad12-ccb7-4682-a603-d47ce40f2c48"
      },
      "execution_count": 19,
      "outputs": [
        {
          "output_type": "stream",
          "name": "stdout",
          "text": [
            "Hello, this is a sample text."
          ]
        }
      ]
    },
    {
      "cell_type": "markdown",
      "source": [
        "###Q3.  How would you handle a case where the file doesn't exist while trying to open it for reading?\n",
        "You can use exception handling with a `try-except` block to catch the `FileNotFoundError` and handle it gracefully, such as by printing an error message.\n"
      ],
      "metadata": {
        "id": "VpWNyLHmeMhM"
      }
    },
    {
      "cell_type": "code",
      "source": [
        "#Example:\n",
        "try:\n",
        "    with open('non_existent_file.txt', 'r') as file:\n",
        "        content = file.read()\n",
        "        print(content)\n",
        "except FileNotFoundError:\n",
        "    print(\"Error: The file does not exist.\")\n"
      ],
      "metadata": {
        "colab": {
          "base_uri": "https://localhost:8080/"
        },
        "id": "L47Qaja6enYj",
        "outputId": "46b3a0c6-8e12-40d7-98d3-4dee9045589d"
      },
      "execution_count": 20,
      "outputs": [
        {
          "output_type": "stream",
          "name": "stdout",
          "text": [
            "Error: The file does not exist.\n"
          ]
        }
      ]
    },
    {
      "cell_type": "markdown",
      "source": [
        "###Q4.  Write a Python script that reads from one file and writes its content to another file.\n",
        "This script opens a source file for reading and a destination file for writing, then copies the content from the source to the destination."
      ],
      "metadata": {
        "id": "6WrAoAL4esX-"
      }
    },
    {
      "cell_type": "code",
      "source": [
        "#Example:\n",
        "try:\n",
        "    # Open the source file in read mode\n",
        "    with open('source.txt', 'r') as source_file:\n",
        "        content = source_file.read()\n",
        "\n",
        "    # Open the destination file in write mode\n",
        "    with open('destination.txt', 'w') as dest_file:\n",
        "        dest_file.write(content)\n",
        "\n",
        "    print(\"Content copied successfully.\")\n",
        "except FileNotFoundError:\n",
        "    print(\"Error: Source file not found.\")\n",
        "except Exception as e:\n",
        "    print(\"An error occurred:\", e)\n"
      ],
      "metadata": {
        "colab": {
          "base_uri": "https://localhost:8080/"
        },
        "id": "NKjL32rge4PS",
        "outputId": "18d3b128-d383-44bb-e063-7f41c143fcec"
      },
      "execution_count": 21,
      "outputs": [
        {
          "output_type": "stream",
          "name": "stdout",
          "text": [
            "Error: Source file not found.\n"
          ]
        }
      ]
    },
    {
      "cell_type": "markdown",
      "source": [
        "###Q5. How would you catch and handle division by zero error in Python?\n",
        "You can use a `try-except` block to catch a `ZeroDivisionError` when dividing by zero and handle it gracefully, for example, by printing an error message."
      ],
      "metadata": {
        "id": "4p0di6Wke9Fj"
      }
    },
    {
      "cell_type": "code",
      "source": [
        "#Example:\n",
        "try:\n",
        "    numerator = 10\n",
        "    denominator = 0\n",
        "    result = numerator / denominator\n",
        "except ZeroDivisionError:\n",
        "    print(\"Error: Cannot divide by zero.\")\n",
        "else:\n",
        "    print(\"Result is\", result)\n"
      ],
      "metadata": {
        "colab": {
          "base_uri": "https://localhost:8080/"
        },
        "id": "lCSWkOQDfKfP",
        "outputId": "d731e29d-055c-48fd-e8ee-f189a3495258"
      },
      "execution_count": 22,
      "outputs": [
        {
          "output_type": "stream",
          "name": "stdout",
          "text": [
            "Error: Cannot divide by zero.\n"
          ]
        }
      ]
    },
    {
      "cell_type": "markdown",
      "source": [
        "###Q6. Write a Python program that logs an error message to a log file when a division by zero exception occurs.\n",
        "This program uses Python's `logging` module to record an error message into a log file if a `ZeroDivisionError` is raised."
      ],
      "metadata": {
        "id": "b9RBc37bfPQ7"
      }
    },
    {
      "cell_type": "code",
      "source": [
        "#Example:\n",
        "import logging\n",
        "\n",
        "# Configure logging to write to a file\n",
        "logging.basicConfig(filename='error_log.txt', level=logging.ERROR,\n",
        "                    format='%(asctime)s - %(levelname)s - %(message)s')\n",
        "\n",
        "try:\n",
        "    numerator = 10\n",
        "    denominator = 0\n",
        "    result = numerator / denominator\n",
        "except ZeroDivisionError as e:\n",
        "    logging.error(\"Division by zero error occurred: %s\", e)\n",
        "    print(\"An error occurred. Check the log file for details.\")\n",
        "else:\n",
        "    print(\"Result is\", result)\n"
      ],
      "metadata": {
        "colab": {
          "base_uri": "https://localhost:8080/"
        },
        "id": "gZwgQelZfgvM",
        "outputId": "95fb1cc9-5277-40f4-cf10-4b3564c7c229"
      },
      "execution_count": 23,
      "outputs": [
        {
          "output_type": "stream",
          "name": "stderr",
          "text": [
            "ERROR:root:Division by zero error occurred: division by zero\n"
          ]
        },
        {
          "output_type": "stream",
          "name": "stdout",
          "text": [
            "An error occurred. Check the log file for details.\n"
          ]
        }
      ]
    },
    {
      "cell_type": "markdown",
      "source": [
        "###Q7.  How do you log information at different levels (INFO, ERROR, WARNING) in Python using the logging module?\n",
        "The `logging` module allows you to log messages at various severity levels such as INFO, ERROR, and WARNING. You configure the logging level and then use the corresponding methods to log messages.\n",
        "\n",
        "Common logging methods:\n",
        "- `logging.info()` — for informational messages\n",
        "- `logging.warning()` — for warning messages\n",
        "- `logging.error()` — for error messages\n",
        "\n",
        "This helps categorize and filter log messages based on their importance."
      ],
      "metadata": {
        "id": "f13FZlTGfmI0"
      }
    },
    {
      "cell_type": "code",
      "source": [
        "#Example:\n",
        "import logging\n",
        "\n",
        "# Configure logging to display messages of level INFO and above\n",
        "logging.basicConfig(level=logging.INFO, format='%(levelname)s: %(message)s')\n",
        "\n",
        "logging.info(\"This is an informational message.\")\n",
        "logging.warning(\"This is a warning message.\")\n",
        "logging.error(\"This is an error message.\")\n"
      ],
      "metadata": {
        "colab": {
          "base_uri": "https://localhost:8080/"
        },
        "id": "4Uo74B5yf1LZ",
        "outputId": "123179a8-89ed-4c36-b69c-e879631924d8"
      },
      "execution_count": 24,
      "outputs": [
        {
          "output_type": "stream",
          "name": "stderr",
          "text": [
            "WARNING:root:This is a warning message.\n",
            "ERROR:root:This is an error message.\n"
          ]
        }
      ]
    },
    {
      "cell_type": "markdown",
      "source": [
        "###Q8. Write a program to handle a file opening error using exception handling.\n",
        "This program attempts to open a file and catches the `FileNotFoundError` if the file does not exist, printing a friendly error message instead of crashing."
      ],
      "metadata": {
        "id": "q6rvETq9f65O"
      }
    },
    {
      "cell_type": "code",
      "source": [
        "#Example:\n",
        "try:\n",
        "    with open('somefile.txt', 'r') as file:\n",
        "        content = file.read()\n",
        "        print(content)\n",
        "except FileNotFoundError:\n",
        "    print(\"Error: The file does not exist.\")\n"
      ],
      "metadata": {
        "colab": {
          "base_uri": "https://localhost:8080/"
        },
        "id": "74tZaosJgITN",
        "outputId": "b65e1163-9ef7-4641-e2a7-00676ac27e2d"
      },
      "execution_count": 25,
      "outputs": [
        {
          "output_type": "stream",
          "name": "stdout",
          "text": [
            "Error: The file does not exist.\n"
          ]
        }
      ]
    },
    {
      "cell_type": "markdown",
      "source": [
        "###Q9. How can you read a file line by line and store its content in a list in Python?\n",
        "You can open the file in read mode and use a loop or list comprehension to read each line and store them as elements in a list."
      ],
      "metadata": {
        "id": "22a5EgQxgNEZ"
      }
    },
    {
      "cell_type": "code",
      "source": [
        "#Example:\n",
        "with open('example.txt', 'r') as file:\n",
        "    lines = file.readlines()  # reads all lines into a list\n",
        "\n",
        "# Now 'lines' is a list where each element is a line from the file, including the newline character\n",
        "print(lines)\n"
      ],
      "metadata": {
        "colab": {
          "base_uri": "https://localhost:8080/"
        },
        "id": "ruYeoiaxg5dt",
        "outputId": "c8d902bd-6af2-41f9-a3c6-07977e1e662e"
      },
      "execution_count": 26,
      "outputs": [
        {
          "output_type": "stream",
          "name": "stdout",
          "text": [
            "['Hello, this is a sample text.']\n"
          ]
        }
      ]
    },
    {
      "cell_type": "markdown",
      "source": [
        "###Q10. How can you append data to an existing file in Python?\n",
        "To append data to an existing file, open the file in append mode (`'a'`). This allows you to add new content to the end of the file without deleting its existing content. You can use the `write()` method to add data."
      ],
      "metadata": {
        "id": "75b0vXGshKYb"
      }
    },
    {
      "cell_type": "code",
      "source": [
        "#Example:\n",
        "# Open the file in append mode\n",
        "with open('example.txt', 'a') as file:\n",
        "    file.write(\"\\nThis line was appended to the file.\")\n",
        "\n",
        "print(\"Data appended successfully.\")\n",
        "\n"
      ],
      "metadata": {
        "colab": {
          "base_uri": "https://localhost:8080/"
        },
        "id": "Ao1Dp1OPhXIr",
        "outputId": "9dfc1a70-da29-4cdc-dc80-17c6b86e378c"
      },
      "execution_count": 27,
      "outputs": [
        {
          "output_type": "stream",
          "name": "stdout",
          "text": [
            "Data appended successfully.\n"
          ]
        }
      ]
    },
    {
      "cell_type": "markdown",
      "source": [
        "###Q11.  Write a Python program that uses a try-except block to handle an error when attempting to access a dictionary key that doesn't exist.\n",
        "This program attempts to access a key that may not exist in a dictionary. If the key is not found, it catches the `KeyError` and prints a custom error message."
      ],
      "metadata": {
        "id": "N2z0AYvmheLy"
      }
    },
    {
      "cell_type": "code",
      "source": [
        "#Example:\n",
        "# Define a simple dictionary with name and age\n",
        "person = {\"name\": \"Sahil\", \"age\": 23}\n",
        "\n",
        "try:\n",
        "    # Try to access a key that may not exist\n",
        "    print(\"City:\", person[\"city\"])\n",
        "except KeyError:\n",
        "    print(\"Error: The key 'city' does not exist in the dictionary.\")\n"
      ],
      "metadata": {
        "colab": {
          "base_uri": "https://localhost:8080/"
        },
        "id": "MFPe_GYaiICI",
        "outputId": "c2dad5b2-500c-4a55-859f-218f96a58cbc"
      },
      "execution_count": 28,
      "outputs": [
        {
          "output_type": "stream",
          "name": "stdout",
          "text": [
            "Error: The key 'city' does not exist in the dictionary.\n"
          ]
        }
      ]
    },
    {
      "cell_type": "markdown",
      "source": [
        "###Q12. Write a program that demonstrates using multiple except blocks to handle different types of exceptions.\n",
        "This program tries to perform multiple operations and uses separate `except` blocks to catch and handle specific exceptions like `ZeroDivisionError` and `ValueError`."
      ],
      "metadata": {
        "id": "RpkRyR4UiTc5"
      }
    },
    {
      "cell_type": "code",
      "source": [
        "#Example:\n",
        "try:\n",
        "    # Input from user\n",
        "    num = int(input(\"Enter a number to divide 100: \"))\n",
        "\n",
        "    # Perform division\n",
        "    result = 100 / num\n",
        "    print(\"Result:\", result)\n",
        "\n",
        "except ZeroDivisionError:\n",
        "    print(\"Error: You cannot divide by zero.\")\n",
        "\n",
        "except ValueError:\n",
        "    print(\"Error: Please enter a valid integer.\")\n",
        "\n",
        "except Exception as e:\n",
        "    print(\"An unexpected error occurred:\", e)\n"
      ],
      "metadata": {
        "colab": {
          "base_uri": "https://localhost:8080/"
        },
        "id": "Gaaaazi1iggk",
        "outputId": "01676ecf-f4d2-4b10-a760-a421db1b0d17"
      },
      "execution_count": 29,
      "outputs": [
        {
          "output_type": "stream",
          "name": "stdout",
          "text": [
            "Enter a number to divide 100: 2\n",
            "Result: 50.0\n"
          ]
        }
      ]
    },
    {
      "cell_type": "markdown",
      "source": [
        "###Q13.  How would you check if a file exists before attempting to read it in Python?\n",
        "You can use the `os.path.exists()` function from the `os` module to check whether a file exists before trying to open or read it. This helps avoid errors like `FileNotFoundError`."
      ],
      "metadata": {
        "id": "v752XfFAiwn5"
      }
    },
    {
      "cell_type": "code",
      "source": [
        "#Example:\n",
        "import os\n",
        "\n",
        "filename = 'example.txt'\n",
        "\n",
        "if os.path.exists(filename):\n",
        "    with open(filename, 'r') as file:\n",
        "        content = file.read()\n",
        "        print(\"File content:\\n\", content)\n",
        "else:\n",
        "    print(\"Error: File does not exist.\")\n"
      ],
      "metadata": {
        "colab": {
          "base_uri": "https://localhost:8080/"
        },
        "id": "QRb_m089i73S",
        "outputId": "d19c1d66-8d82-43c3-c010-a66fc1ccdb33"
      },
      "execution_count": 30,
      "outputs": [
        {
          "output_type": "stream",
          "name": "stdout",
          "text": [
            "File content:\n",
            " Hello, this is a sample text.\n",
            "This line was appended to the file.\n"
          ]
        }
      ]
    },
    {
      "cell_type": "markdown",
      "source": [
        "###Q14. Write a program that uses the logging module to log both informational and error messages.\n",
        "This program demonstrates how to use `logging.info()` for general information and `logging.error()` for logging errors. The logs are saved to a file named `app.log`."
      ],
      "metadata": {
        "id": "kGNHGbjljBc7"
      }
    },
    {
      "cell_type": "code",
      "source": [
        "#Example:\n",
        "import logging\n",
        "\n",
        "# Configure logging settings\n",
        "logging.basicConfig(filename='app.log', level=logging.INFO,\n",
        "                    format='%(asctime)s - %(levelname)s - %(message)s')\n",
        "\n",
        "# Log an informational message\n",
        "logging.info(\"Program started successfully.\")\n",
        "\n",
        "try:\n",
        "    x = 10\n",
        "    y = 0\n",
        "    result = x / y\n",
        "except ZeroDivisionError:\n",
        "    logging.error(\"Attempted to divide by zero.\")\n",
        "\n",
        "# Another info log\n",
        "logging.info(\"Program finished running.\")\n"
      ],
      "metadata": {
        "colab": {
          "base_uri": "https://localhost:8080/"
        },
        "id": "roMTzyFwjYhz",
        "outputId": "e304fc95-a20a-4b02-f594-f442a248614f"
      },
      "execution_count": 31,
      "outputs": [
        {
          "output_type": "stream",
          "name": "stderr",
          "text": [
            "ERROR:root:Attempted to divide by zero.\n"
          ]
        }
      ]
    },
    {
      "cell_type": "markdown",
      "source": [
        "###Q15. Write a Python program that prints the content of a file and handles the case when the file is empty.\n",
        "This program opens a file, checks whether it's empty, and prints the contents if it's not. If the file is empty, it displays an appropriate message."
      ],
      "metadata": {
        "id": "_Y0JxJlYjdVS"
      }
    },
    {
      "cell_type": "code",
      "source": [
        "#Example:\n",
        "try:\n",
        "    with open('example.txt', 'r') as file:\n",
        "        content = file.read()\n",
        "\n",
        "        if content.strip() == \"\":\n",
        "            print(\"The file is empty.\")\n",
        "        else:\n",
        "            print(\"File content:\\n\", content)\n",
        "except FileNotFoundError:\n",
        "    print(\"Error: The file does not exist.\")\n"
      ],
      "metadata": {
        "colab": {
          "base_uri": "https://localhost:8080/"
        },
        "id": "F7Buex2bkC5P",
        "outputId": "aef4c223-51ea-4f6a-e695-1a1f57787c4d"
      },
      "execution_count": 32,
      "outputs": [
        {
          "output_type": "stream",
          "name": "stdout",
          "text": [
            "File content:\n",
            " Hello, this is a sample text.\n",
            "This line was appended to the file.\n"
          ]
        }
      ]
    },
    {
      "cell_type": "markdown",
      "source": [
        "###Q16. Demonstrate how to use memory profiling to check the memory usage of a small program.\n",
        "Memory profiling helps us see how much memory our Python program is using. This is useful for finding parts of the program that use a lot of memory.\n",
        "\n",
        "We use a tool called `memory_profiler` for this.\n",
        "\n",
        "In Google Colab, you need to install it first and then run the code to check memory usage.\n"
      ],
      "metadata": {
        "id": "NA6qL4UDkSJg"
      }
    },
    {
      "cell_type": "code",
      "source": [
        "#Example:\n",
        "# Install the memory_profiler module (only once)\n",
        "!pip install -q memory-profiler\n",
        "\n",
        "from memory_profiler import profile\n",
        "\n",
        "# Use this decorator to check memory used by this function\n",
        "@profile\n",
        "def create_list():\n",
        "    a = [i for i in range(100000)]  # This creates a big list\n",
        "    return a\n",
        "\n",
        "create_list()\n"
      ],
      "metadata": {
        "colab": {
          "base_uri": "https://localhost:8080/"
        },
        "id": "qxXHIvE9lG-b",
        "outputId": "4c911e66-eed5-45d8-b40f-131ee206a543"
      },
      "execution_count": 34,
      "outputs": [
        {
          "output_type": "stream",
          "name": "stdout",
          "text": [
            "ERROR: Could not find file <ipython-input-34-ca724defc614>\n",
            "NOTE: %mprun can only be used on functions defined in physical files, and not in the IPython environment.\n"
          ]
        },
        {
          "output_type": "execute_result",
          "data": {
            "text/plain": [
              "[0,\n",
              " 1,\n",
              " 2,\n",
              " 3,\n",
              " 4,\n",
              " 5,\n",
              " 6,\n",
              " 7,\n",
              " 8,\n",
              " 9,\n",
              " 10,\n",
              " 11,\n",
              " 12,\n",
              " 13,\n",
              " 14,\n",
              " 15,\n",
              " 16,\n",
              " 17,\n",
              " 18,\n",
              " 19,\n",
              " 20,\n",
              " 21,\n",
              " 22,\n",
              " 23,\n",
              " 24,\n",
              " 25,\n",
              " 26,\n",
              " 27,\n",
              " 28,\n",
              " 29,\n",
              " 30,\n",
              " 31,\n",
              " 32,\n",
              " 33,\n",
              " 34,\n",
              " 35,\n",
              " 36,\n",
              " 37,\n",
              " 38,\n",
              " 39,\n",
              " 40,\n",
              " 41,\n",
              " 42,\n",
              " 43,\n",
              " 44,\n",
              " 45,\n",
              " 46,\n",
              " 47,\n",
              " 48,\n",
              " 49,\n",
              " 50,\n",
              " 51,\n",
              " 52,\n",
              " 53,\n",
              " 54,\n",
              " 55,\n",
              " 56,\n",
              " 57,\n",
              " 58,\n",
              " 59,\n",
              " 60,\n",
              " 61,\n",
              " 62,\n",
              " 63,\n",
              " 64,\n",
              " 65,\n",
              " 66,\n",
              " 67,\n",
              " 68,\n",
              " 69,\n",
              " 70,\n",
              " 71,\n",
              " 72,\n",
              " 73,\n",
              " 74,\n",
              " 75,\n",
              " 76,\n",
              " 77,\n",
              " 78,\n",
              " 79,\n",
              " 80,\n",
              " 81,\n",
              " 82,\n",
              " 83,\n",
              " 84,\n",
              " 85,\n",
              " 86,\n",
              " 87,\n",
              " 88,\n",
              " 89,\n",
              " 90,\n",
              " 91,\n",
              " 92,\n",
              " 93,\n",
              " 94,\n",
              " 95,\n",
              " 96,\n",
              " 97,\n",
              " 98,\n",
              " 99,\n",
              " 100,\n",
              " 101,\n",
              " 102,\n",
              " 103,\n",
              " 104,\n",
              " 105,\n",
              " 106,\n",
              " 107,\n",
              " 108,\n",
              " 109,\n",
              " 110,\n",
              " 111,\n",
              " 112,\n",
              " 113,\n",
              " 114,\n",
              " 115,\n",
              " 116,\n",
              " 117,\n",
              " 118,\n",
              " 119,\n",
              " 120,\n",
              " 121,\n",
              " 122,\n",
              " 123,\n",
              " 124,\n",
              " 125,\n",
              " 126,\n",
              " 127,\n",
              " 128,\n",
              " 129,\n",
              " 130,\n",
              " 131,\n",
              " 132,\n",
              " 133,\n",
              " 134,\n",
              " 135,\n",
              " 136,\n",
              " 137,\n",
              " 138,\n",
              " 139,\n",
              " 140,\n",
              " 141,\n",
              " 142,\n",
              " 143,\n",
              " 144,\n",
              " 145,\n",
              " 146,\n",
              " 147,\n",
              " 148,\n",
              " 149,\n",
              " 150,\n",
              " 151,\n",
              " 152,\n",
              " 153,\n",
              " 154,\n",
              " 155,\n",
              " 156,\n",
              " 157,\n",
              " 158,\n",
              " 159,\n",
              " 160,\n",
              " 161,\n",
              " 162,\n",
              " 163,\n",
              " 164,\n",
              " 165,\n",
              " 166,\n",
              " 167,\n",
              " 168,\n",
              " 169,\n",
              " 170,\n",
              " 171,\n",
              " 172,\n",
              " 173,\n",
              " 174,\n",
              " 175,\n",
              " 176,\n",
              " 177,\n",
              " 178,\n",
              " 179,\n",
              " 180,\n",
              " 181,\n",
              " 182,\n",
              " 183,\n",
              " 184,\n",
              " 185,\n",
              " 186,\n",
              " 187,\n",
              " 188,\n",
              " 189,\n",
              " 190,\n",
              " 191,\n",
              " 192,\n",
              " 193,\n",
              " 194,\n",
              " 195,\n",
              " 196,\n",
              " 197,\n",
              " 198,\n",
              " 199,\n",
              " 200,\n",
              " 201,\n",
              " 202,\n",
              " 203,\n",
              " 204,\n",
              " 205,\n",
              " 206,\n",
              " 207,\n",
              " 208,\n",
              " 209,\n",
              " 210,\n",
              " 211,\n",
              " 212,\n",
              " 213,\n",
              " 214,\n",
              " 215,\n",
              " 216,\n",
              " 217,\n",
              " 218,\n",
              " 219,\n",
              " 220,\n",
              " 221,\n",
              " 222,\n",
              " 223,\n",
              " 224,\n",
              " 225,\n",
              " 226,\n",
              " 227,\n",
              " 228,\n",
              " 229,\n",
              " 230,\n",
              " 231,\n",
              " 232,\n",
              " 233,\n",
              " 234,\n",
              " 235,\n",
              " 236,\n",
              " 237,\n",
              " 238,\n",
              " 239,\n",
              " 240,\n",
              " 241,\n",
              " 242,\n",
              " 243,\n",
              " 244,\n",
              " 245,\n",
              " 246,\n",
              " 247,\n",
              " 248,\n",
              " 249,\n",
              " 250,\n",
              " 251,\n",
              " 252,\n",
              " 253,\n",
              " 254,\n",
              " 255,\n",
              " 256,\n",
              " 257,\n",
              " 258,\n",
              " 259,\n",
              " 260,\n",
              " 261,\n",
              " 262,\n",
              " 263,\n",
              " 264,\n",
              " 265,\n",
              " 266,\n",
              " 267,\n",
              " 268,\n",
              " 269,\n",
              " 270,\n",
              " 271,\n",
              " 272,\n",
              " 273,\n",
              " 274,\n",
              " 275,\n",
              " 276,\n",
              " 277,\n",
              " 278,\n",
              " 279,\n",
              " 280,\n",
              " 281,\n",
              " 282,\n",
              " 283,\n",
              " 284,\n",
              " 285,\n",
              " 286,\n",
              " 287,\n",
              " 288,\n",
              " 289,\n",
              " 290,\n",
              " 291,\n",
              " 292,\n",
              " 293,\n",
              " 294,\n",
              " 295,\n",
              " 296,\n",
              " 297,\n",
              " 298,\n",
              " 299,\n",
              " 300,\n",
              " 301,\n",
              " 302,\n",
              " 303,\n",
              " 304,\n",
              " 305,\n",
              " 306,\n",
              " 307,\n",
              " 308,\n",
              " 309,\n",
              " 310,\n",
              " 311,\n",
              " 312,\n",
              " 313,\n",
              " 314,\n",
              " 315,\n",
              " 316,\n",
              " 317,\n",
              " 318,\n",
              " 319,\n",
              " 320,\n",
              " 321,\n",
              " 322,\n",
              " 323,\n",
              " 324,\n",
              " 325,\n",
              " 326,\n",
              " 327,\n",
              " 328,\n",
              " 329,\n",
              " 330,\n",
              " 331,\n",
              " 332,\n",
              " 333,\n",
              " 334,\n",
              " 335,\n",
              " 336,\n",
              " 337,\n",
              " 338,\n",
              " 339,\n",
              " 340,\n",
              " 341,\n",
              " 342,\n",
              " 343,\n",
              " 344,\n",
              " 345,\n",
              " 346,\n",
              " 347,\n",
              " 348,\n",
              " 349,\n",
              " 350,\n",
              " 351,\n",
              " 352,\n",
              " 353,\n",
              " 354,\n",
              " 355,\n",
              " 356,\n",
              " 357,\n",
              " 358,\n",
              " 359,\n",
              " 360,\n",
              " 361,\n",
              " 362,\n",
              " 363,\n",
              " 364,\n",
              " 365,\n",
              " 366,\n",
              " 367,\n",
              " 368,\n",
              " 369,\n",
              " 370,\n",
              " 371,\n",
              " 372,\n",
              " 373,\n",
              " 374,\n",
              " 375,\n",
              " 376,\n",
              " 377,\n",
              " 378,\n",
              " 379,\n",
              " 380,\n",
              " 381,\n",
              " 382,\n",
              " 383,\n",
              " 384,\n",
              " 385,\n",
              " 386,\n",
              " 387,\n",
              " 388,\n",
              " 389,\n",
              " 390,\n",
              " 391,\n",
              " 392,\n",
              " 393,\n",
              " 394,\n",
              " 395,\n",
              " 396,\n",
              " 397,\n",
              " 398,\n",
              " 399,\n",
              " 400,\n",
              " 401,\n",
              " 402,\n",
              " 403,\n",
              " 404,\n",
              " 405,\n",
              " 406,\n",
              " 407,\n",
              " 408,\n",
              " 409,\n",
              " 410,\n",
              " 411,\n",
              " 412,\n",
              " 413,\n",
              " 414,\n",
              " 415,\n",
              " 416,\n",
              " 417,\n",
              " 418,\n",
              " 419,\n",
              " 420,\n",
              " 421,\n",
              " 422,\n",
              " 423,\n",
              " 424,\n",
              " 425,\n",
              " 426,\n",
              " 427,\n",
              " 428,\n",
              " 429,\n",
              " 430,\n",
              " 431,\n",
              " 432,\n",
              " 433,\n",
              " 434,\n",
              " 435,\n",
              " 436,\n",
              " 437,\n",
              " 438,\n",
              " 439,\n",
              " 440,\n",
              " 441,\n",
              " 442,\n",
              " 443,\n",
              " 444,\n",
              " 445,\n",
              " 446,\n",
              " 447,\n",
              " 448,\n",
              " 449,\n",
              " 450,\n",
              " 451,\n",
              " 452,\n",
              " 453,\n",
              " 454,\n",
              " 455,\n",
              " 456,\n",
              " 457,\n",
              " 458,\n",
              " 459,\n",
              " 460,\n",
              " 461,\n",
              " 462,\n",
              " 463,\n",
              " 464,\n",
              " 465,\n",
              " 466,\n",
              " 467,\n",
              " 468,\n",
              " 469,\n",
              " 470,\n",
              " 471,\n",
              " 472,\n",
              " 473,\n",
              " 474,\n",
              " 475,\n",
              " 476,\n",
              " 477,\n",
              " 478,\n",
              " 479,\n",
              " 480,\n",
              " 481,\n",
              " 482,\n",
              " 483,\n",
              " 484,\n",
              " 485,\n",
              " 486,\n",
              " 487,\n",
              " 488,\n",
              " 489,\n",
              " 490,\n",
              " 491,\n",
              " 492,\n",
              " 493,\n",
              " 494,\n",
              " 495,\n",
              " 496,\n",
              " 497,\n",
              " 498,\n",
              " 499,\n",
              " 500,\n",
              " 501,\n",
              " 502,\n",
              " 503,\n",
              " 504,\n",
              " 505,\n",
              " 506,\n",
              " 507,\n",
              " 508,\n",
              " 509,\n",
              " 510,\n",
              " 511,\n",
              " 512,\n",
              " 513,\n",
              " 514,\n",
              " 515,\n",
              " 516,\n",
              " 517,\n",
              " 518,\n",
              " 519,\n",
              " 520,\n",
              " 521,\n",
              " 522,\n",
              " 523,\n",
              " 524,\n",
              " 525,\n",
              " 526,\n",
              " 527,\n",
              " 528,\n",
              " 529,\n",
              " 530,\n",
              " 531,\n",
              " 532,\n",
              " 533,\n",
              " 534,\n",
              " 535,\n",
              " 536,\n",
              " 537,\n",
              " 538,\n",
              " 539,\n",
              " 540,\n",
              " 541,\n",
              " 542,\n",
              " 543,\n",
              " 544,\n",
              " 545,\n",
              " 546,\n",
              " 547,\n",
              " 548,\n",
              " 549,\n",
              " 550,\n",
              " 551,\n",
              " 552,\n",
              " 553,\n",
              " 554,\n",
              " 555,\n",
              " 556,\n",
              " 557,\n",
              " 558,\n",
              " 559,\n",
              " 560,\n",
              " 561,\n",
              " 562,\n",
              " 563,\n",
              " 564,\n",
              " 565,\n",
              " 566,\n",
              " 567,\n",
              " 568,\n",
              " 569,\n",
              " 570,\n",
              " 571,\n",
              " 572,\n",
              " 573,\n",
              " 574,\n",
              " 575,\n",
              " 576,\n",
              " 577,\n",
              " 578,\n",
              " 579,\n",
              " 580,\n",
              " 581,\n",
              " 582,\n",
              " 583,\n",
              " 584,\n",
              " 585,\n",
              " 586,\n",
              " 587,\n",
              " 588,\n",
              " 589,\n",
              " 590,\n",
              " 591,\n",
              " 592,\n",
              " 593,\n",
              " 594,\n",
              " 595,\n",
              " 596,\n",
              " 597,\n",
              " 598,\n",
              " 599,\n",
              " 600,\n",
              " 601,\n",
              " 602,\n",
              " 603,\n",
              " 604,\n",
              " 605,\n",
              " 606,\n",
              " 607,\n",
              " 608,\n",
              " 609,\n",
              " 610,\n",
              " 611,\n",
              " 612,\n",
              " 613,\n",
              " 614,\n",
              " 615,\n",
              " 616,\n",
              " 617,\n",
              " 618,\n",
              " 619,\n",
              " 620,\n",
              " 621,\n",
              " 622,\n",
              " 623,\n",
              " 624,\n",
              " 625,\n",
              " 626,\n",
              " 627,\n",
              " 628,\n",
              " 629,\n",
              " 630,\n",
              " 631,\n",
              " 632,\n",
              " 633,\n",
              " 634,\n",
              " 635,\n",
              " 636,\n",
              " 637,\n",
              " 638,\n",
              " 639,\n",
              " 640,\n",
              " 641,\n",
              " 642,\n",
              " 643,\n",
              " 644,\n",
              " 645,\n",
              " 646,\n",
              " 647,\n",
              " 648,\n",
              " 649,\n",
              " 650,\n",
              " 651,\n",
              " 652,\n",
              " 653,\n",
              " 654,\n",
              " 655,\n",
              " 656,\n",
              " 657,\n",
              " 658,\n",
              " 659,\n",
              " 660,\n",
              " 661,\n",
              " 662,\n",
              " 663,\n",
              " 664,\n",
              " 665,\n",
              " 666,\n",
              " 667,\n",
              " 668,\n",
              " 669,\n",
              " 670,\n",
              " 671,\n",
              " 672,\n",
              " 673,\n",
              " 674,\n",
              " 675,\n",
              " 676,\n",
              " 677,\n",
              " 678,\n",
              " 679,\n",
              " 680,\n",
              " 681,\n",
              " 682,\n",
              " 683,\n",
              " 684,\n",
              " 685,\n",
              " 686,\n",
              " 687,\n",
              " 688,\n",
              " 689,\n",
              " 690,\n",
              " 691,\n",
              " 692,\n",
              " 693,\n",
              " 694,\n",
              " 695,\n",
              " 696,\n",
              " 697,\n",
              " 698,\n",
              " 699,\n",
              " 700,\n",
              " 701,\n",
              " 702,\n",
              " 703,\n",
              " 704,\n",
              " 705,\n",
              " 706,\n",
              " 707,\n",
              " 708,\n",
              " 709,\n",
              " 710,\n",
              " 711,\n",
              " 712,\n",
              " 713,\n",
              " 714,\n",
              " 715,\n",
              " 716,\n",
              " 717,\n",
              " 718,\n",
              " 719,\n",
              " 720,\n",
              " 721,\n",
              " 722,\n",
              " 723,\n",
              " 724,\n",
              " 725,\n",
              " 726,\n",
              " 727,\n",
              " 728,\n",
              " 729,\n",
              " 730,\n",
              " 731,\n",
              " 732,\n",
              " 733,\n",
              " 734,\n",
              " 735,\n",
              " 736,\n",
              " 737,\n",
              " 738,\n",
              " 739,\n",
              " 740,\n",
              " 741,\n",
              " 742,\n",
              " 743,\n",
              " 744,\n",
              " 745,\n",
              " 746,\n",
              " 747,\n",
              " 748,\n",
              " 749,\n",
              " 750,\n",
              " 751,\n",
              " 752,\n",
              " 753,\n",
              " 754,\n",
              " 755,\n",
              " 756,\n",
              " 757,\n",
              " 758,\n",
              " 759,\n",
              " 760,\n",
              " 761,\n",
              " 762,\n",
              " 763,\n",
              " 764,\n",
              " 765,\n",
              " 766,\n",
              " 767,\n",
              " 768,\n",
              " 769,\n",
              " 770,\n",
              " 771,\n",
              " 772,\n",
              " 773,\n",
              " 774,\n",
              " 775,\n",
              " 776,\n",
              " 777,\n",
              " 778,\n",
              " 779,\n",
              " 780,\n",
              " 781,\n",
              " 782,\n",
              " 783,\n",
              " 784,\n",
              " 785,\n",
              " 786,\n",
              " 787,\n",
              " 788,\n",
              " 789,\n",
              " 790,\n",
              " 791,\n",
              " 792,\n",
              " 793,\n",
              " 794,\n",
              " 795,\n",
              " 796,\n",
              " 797,\n",
              " 798,\n",
              " 799,\n",
              " 800,\n",
              " 801,\n",
              " 802,\n",
              " 803,\n",
              " 804,\n",
              " 805,\n",
              " 806,\n",
              " 807,\n",
              " 808,\n",
              " 809,\n",
              " 810,\n",
              " 811,\n",
              " 812,\n",
              " 813,\n",
              " 814,\n",
              " 815,\n",
              " 816,\n",
              " 817,\n",
              " 818,\n",
              " 819,\n",
              " 820,\n",
              " 821,\n",
              " 822,\n",
              " 823,\n",
              " 824,\n",
              " 825,\n",
              " 826,\n",
              " 827,\n",
              " 828,\n",
              " 829,\n",
              " 830,\n",
              " 831,\n",
              " 832,\n",
              " 833,\n",
              " 834,\n",
              " 835,\n",
              " 836,\n",
              " 837,\n",
              " 838,\n",
              " 839,\n",
              " 840,\n",
              " 841,\n",
              " 842,\n",
              " 843,\n",
              " 844,\n",
              " 845,\n",
              " 846,\n",
              " 847,\n",
              " 848,\n",
              " 849,\n",
              " 850,\n",
              " 851,\n",
              " 852,\n",
              " 853,\n",
              " 854,\n",
              " 855,\n",
              " 856,\n",
              " 857,\n",
              " 858,\n",
              " 859,\n",
              " 860,\n",
              " 861,\n",
              " 862,\n",
              " 863,\n",
              " 864,\n",
              " 865,\n",
              " 866,\n",
              " 867,\n",
              " 868,\n",
              " 869,\n",
              " 870,\n",
              " 871,\n",
              " 872,\n",
              " 873,\n",
              " 874,\n",
              " 875,\n",
              " 876,\n",
              " 877,\n",
              " 878,\n",
              " 879,\n",
              " 880,\n",
              " 881,\n",
              " 882,\n",
              " 883,\n",
              " 884,\n",
              " 885,\n",
              " 886,\n",
              " 887,\n",
              " 888,\n",
              " 889,\n",
              " 890,\n",
              " 891,\n",
              " 892,\n",
              " 893,\n",
              " 894,\n",
              " 895,\n",
              " 896,\n",
              " 897,\n",
              " 898,\n",
              " 899,\n",
              " 900,\n",
              " 901,\n",
              " 902,\n",
              " 903,\n",
              " 904,\n",
              " 905,\n",
              " 906,\n",
              " 907,\n",
              " 908,\n",
              " 909,\n",
              " 910,\n",
              " 911,\n",
              " 912,\n",
              " 913,\n",
              " 914,\n",
              " 915,\n",
              " 916,\n",
              " 917,\n",
              " 918,\n",
              " 919,\n",
              " 920,\n",
              " 921,\n",
              " 922,\n",
              " 923,\n",
              " 924,\n",
              " 925,\n",
              " 926,\n",
              " 927,\n",
              " 928,\n",
              " 929,\n",
              " 930,\n",
              " 931,\n",
              " 932,\n",
              " 933,\n",
              " 934,\n",
              " 935,\n",
              " 936,\n",
              " 937,\n",
              " 938,\n",
              " 939,\n",
              " 940,\n",
              " 941,\n",
              " 942,\n",
              " 943,\n",
              " 944,\n",
              " 945,\n",
              " 946,\n",
              " 947,\n",
              " 948,\n",
              " 949,\n",
              " 950,\n",
              " 951,\n",
              " 952,\n",
              " 953,\n",
              " 954,\n",
              " 955,\n",
              " 956,\n",
              " 957,\n",
              " 958,\n",
              " 959,\n",
              " 960,\n",
              " 961,\n",
              " 962,\n",
              " 963,\n",
              " 964,\n",
              " 965,\n",
              " 966,\n",
              " 967,\n",
              " 968,\n",
              " 969,\n",
              " 970,\n",
              " 971,\n",
              " 972,\n",
              " 973,\n",
              " 974,\n",
              " 975,\n",
              " 976,\n",
              " 977,\n",
              " 978,\n",
              " 979,\n",
              " 980,\n",
              " 981,\n",
              " 982,\n",
              " 983,\n",
              " 984,\n",
              " 985,\n",
              " 986,\n",
              " 987,\n",
              " 988,\n",
              " 989,\n",
              " 990,\n",
              " 991,\n",
              " 992,\n",
              " 993,\n",
              " 994,\n",
              " 995,\n",
              " 996,\n",
              " 997,\n",
              " 998,\n",
              " 999,\n",
              " ...]"
            ]
          },
          "metadata": {},
          "execution_count": 34
        }
      ]
    },
    {
      "cell_type": "markdown",
      "source": [
        "###Q17. Write a Python program to create and write a list of numbers to a file, one number per line.\n",
        "This program opens a file in write mode and writes each number from the list on a separate line.\n"
      ],
      "metadata": {
        "id": "Iywi4NG-lOma"
      }
    },
    {
      "cell_type": "code",
      "source": [
        "#Example:\n",
        "numbers = [10, 20, 30, 40, 50]\n",
        "\n",
        "with open('numbers.txt', 'w') as file:\n",
        "    for number in numbers:\n",
        "        file.write(str(number) + '\\n')\n",
        "\n",
        "print(\"Numbers have been written to numbers.txt\")\n"
      ],
      "metadata": {
        "colab": {
          "base_uri": "https://localhost:8080/"
        },
        "id": "CfaQdd_3lpLL",
        "outputId": "ac98d6db-49bf-46b0-8f9a-8cb4636f533d"
      },
      "execution_count": 35,
      "outputs": [
        {
          "output_type": "stream",
          "name": "stdout",
          "text": [
            "Numbers have been written to numbers.txt\n"
          ]
        }
      ]
    },
    {
      "cell_type": "markdown",
      "source": [
        "###Q18.  How would you implement a basic logging setup that logs to a file with rotation after 1MB?\n",
        "Using `RotatingFileHandler`, the log file will automatically rotate (create a new file) once it reaches 1 megabyte (1MB) in size. This helps to prevent log files from growing too large.\n"
      ],
      "metadata": {
        "id": "vTafcBhkluuu"
      }
    },
    {
      "cell_type": "code",
      "source": [
        "#Example:\n",
        "import logging\n",
        "from logging.handlers import RotatingFileHandler\n",
        "\n",
        "# Create a logger\n",
        "logger = logging.getLogger('my_logger')\n",
        "logger.setLevel(logging.INFO)\n",
        "\n",
        "# Create a rotating file handler that rotates after 1MB, keeping 3 backups\n",
        "handler = RotatingFileHandler('app.log', maxBytes=1_000_000, backupCount=3)\n",
        "formatter = logging.Formatter('%(asctime)s - %(levelname)s - %(message)s')\n",
        "handler.setFormatter(formatter)\n",
        "\n",
        "logger.addHandler(handler)\n",
        "\n",
        "# Log some messages\n",
        "logger.info(\"This is an info message.\")\n",
        "logger.error(\"This is an error message.\")\n",
        "\n",
        "print(\"Logging setup with rotation is complete.\")\n"
      ],
      "metadata": {
        "colab": {
          "base_uri": "https://localhost:8080/"
        },
        "id": "PdYF_uk8l9e8",
        "outputId": "291bfc45-a773-434c-abd5-9fcd7b1d5991"
      },
      "execution_count": 36,
      "outputs": [
        {
          "output_type": "stream",
          "name": "stderr",
          "text": [
            "INFO:my_logger:This is an info message.\n",
            "ERROR:my_logger:This is an error message.\n"
          ]
        },
        {
          "output_type": "stream",
          "name": "stdout",
          "text": [
            "Logging setup with rotation is complete.\n"
          ]
        }
      ]
    },
    {
      "cell_type": "markdown",
      "source": [
        "###Q19.  Write a program that handles both IndexError and KeyError using a try-except block?\n",
        "This program tries to access a list index and a dictionary key that may not exist, catching both exceptions separately to handle them gracefully."
      ],
      "metadata": {
        "id": "nU47zI8fmDaq"
      }
    },
    {
      "cell_type": "code",
      "source": [
        "#Example:\n",
        "my_list = [1, 2, 3]\n",
        "my_dict = {'a': 10, 'b': 20}\n",
        "\n",
        "try:\n",
        "    # Accessing an invalid list index\n",
        "    print(my_list[5])\n",
        "\n",
        "    # Accessing a non-existent dictionary key\n",
        "    print(my_dict['c'])\n",
        "\n",
        "except IndexError:\n",
        "    print(\"Error: List index out of range.\")\n",
        "\n",
        "except KeyError:\n",
        "    print(\"Error: Key not found in dictionary.\")\n"
      ],
      "metadata": {
        "colab": {
          "base_uri": "https://localhost:8080/"
        },
        "id": "rpdcNuS1mRIH",
        "outputId": "33a0fec3-b55b-46f4-dce5-8b3031263adc"
      },
      "execution_count": 37,
      "outputs": [
        {
          "output_type": "stream",
          "name": "stdout",
          "text": [
            "Error: List index out of range.\n"
          ]
        }
      ]
    },
    {
      "cell_type": "markdown",
      "source": [
        "###Q20.  How would you open a file and read its contents using a context manager in Python?\n",
        "Using the `with` statement ensures the file is properly closed after its contents are read, even if an error occurs during the process."
      ],
      "metadata": {
        "id": "Vp1qrTqvmWLw"
      }
    },
    {
      "cell_type": "code",
      "source": [
        "#Example:\n",
        "filename = 'example.txt'\n",
        "\n",
        "with open(filename, 'r') as file:\n",
        "    content = file.read()\n",
        "\n",
        "print(\"File contents:\")\n",
        "print(content)\n"
      ],
      "metadata": {
        "colab": {
          "base_uri": "https://localhost:8080/"
        },
        "id": "t0qg0pzZmh6F",
        "outputId": "87276f1c-8d19-4247-b16d-996ed4be45a3"
      },
      "execution_count": 38,
      "outputs": [
        {
          "output_type": "stream",
          "name": "stdout",
          "text": [
            "File contents:\n",
            "Hello, this is a sample text.\n",
            "This line was appended to the file.\n"
          ]
        }
      ]
    },
    {
      "cell_type": "markdown",
      "source": [
        "###Q21. Write a Python program that reads a file and prints the number of occurrences of a specific word.\n",
        "This program reads the contents of a file and counts how many times a given word appears, ignoring case."
      ],
      "metadata": {
        "id": "cA8O3NUHmm0_"
      }
    },
    {
      "cell_type": "code",
      "source": [
        "#Example:\n",
        "filename = 'example.txt'\n",
        "word_to_count = 'python'  # Change this to the word you want to count\n",
        "\n",
        "try:\n",
        "    with open(filename, 'r') as file:\n",
        "        content = file.read().lower()  # convert to lowercase for case-insensitive search\n",
        "        count = content.count(word_to_count.lower())\n",
        "    print(f\"The word '{word_to_count}' appears {count} times in the file.\")\n",
        "except FileNotFoundError:\n",
        "    print(\"Error: The file does not exist.\")\n"
      ],
      "metadata": {
        "colab": {
          "base_uri": "https://localhost:8080/"
        },
        "id": "AjngA690m2_K",
        "outputId": "fee3dbd7-eb57-4217-d837-022c99acd85b"
      },
      "execution_count": 39,
      "outputs": [
        {
          "output_type": "stream",
          "name": "stdout",
          "text": [
            "The word 'python' appears 0 times in the file.\n"
          ]
        }
      ]
    },
    {
      "cell_type": "markdown",
      "source": [
        "###Q22. How can you check if a file is empty before attempting to read its contents?\n",
        "You can use the `os.path.getsize()` function to check if the file size is zero, which means the file is empty."
      ],
      "metadata": {
        "id": "-RIXi0Jqm6Jl"
      }
    },
    {
      "cell_type": "code",
      "source": [
        "#Example:\n",
        "import os\n",
        "\n",
        "filename = 'example.txt'\n",
        "\n",
        "if os.path.exists(filename) and os.path.getsize(filename) > 0:\n",
        "    with open(filename, 'r') as file:\n",
        "        content = file.read()\n",
        "        print(\"File content:\")\n",
        "        print(content)\n",
        "else:\n",
        "    print(\"The file is empty or does not exist.\")\n"
      ],
      "metadata": {
        "colab": {
          "base_uri": "https://localhost:8080/"
        },
        "id": "Ce-c-zi-nOu_",
        "outputId": "5e6253e3-6655-48bd-d221-565b5ff24fad"
      },
      "execution_count": 40,
      "outputs": [
        {
          "output_type": "stream",
          "name": "stdout",
          "text": [
            "File content:\n",
            "Hello, this is a sample text.\n",
            "This line was appended to the file.\n"
          ]
        }
      ]
    },
    {
      "cell_type": "markdown",
      "source": [
        "###Q23. Write a Python program that writes to a log file when an error occurs during file handling.\n",
        "This program tries to open and read a file. If an error occurs (e.g., file not found), it logs the error message to a log file.\n"
      ],
      "metadata": {
        "id": "qYeF5jzfnZCn"
      }
    },
    {
      "cell_type": "code",
      "source": [
        "#Example:\n",
        "import logging\n",
        "\n",
        "# Configure logging to write errors to a file named error.log\n",
        "logging.basicConfig(filename='error.log', level=logging.ERROR,\n",
        "                    format='%(asctime)s - %(levelname)s - %(message)s')\n",
        "\n",
        "filename = 'nonexistent_file.txt'\n",
        "\n",
        "try:\n",
        "    with open(filename, 'r') as file:\n",
        "        content = file.read()\n",
        "        print(content)\n",
        "except Exception as e:\n",
        "    logging.error(f\"Error occurred while handling the file: {e}\")\n",
        "    print(\"An error occurred. Check error.log for details.\")\n"
      ],
      "metadata": {
        "colab": {
          "base_uri": "https://localhost:8080/"
        },
        "id": "JBZZt3gnnpTE",
        "outputId": "9c8aeeb0-a619-4807-feb4-7d8f8ede5e39"
      },
      "execution_count": 41,
      "outputs": [
        {
          "output_type": "stream",
          "name": "stderr",
          "text": [
            "ERROR:root:Error occurred while handling the file: [Errno 2] No such file or directory: 'nonexistent_file.txt'\n"
          ]
        },
        {
          "output_type": "stream",
          "name": "stdout",
          "text": [
            "An error occurred. Check error.log for details.\n"
          ]
        }
      ]
    }
  ]
}